{
  "nbformat": 4,
  "nbformat_minor": 0,
  "metadata": {
    "colab": {
      "name": "02_simple_linear_regression.ipynb",
      "provenance": [],
      "collapsed_sections": [],
      "toc_visible": true,
      "include_colab_link": true
    },
    "kernelspec": {
      "name": "python3",
      "display_name": "Python 3"
    }
  },
  "cells": [
    {
      "cell_type": "markdown",
      "metadata": {
        "id": "view-in-github",
        "colab_type": "text"
      },
      "source": [
        "<a href=\"https://colab.research.google.com/github/bintangvirgy/learn-machinelearning-python/blob/main/02_simple_linear_regression.ipynb\" target=\"_parent\"><img src=\"https://colab.research.google.com/assets/colab-badge.svg\" alt=\"Open In Colab\"/></a>"
      ]
    },
    {
      "cell_type": "markdown",
      "metadata": {
        "id": "l_LulNCC8z96"
      },
      "source": [
        "# Simple Linear Regression"
      ]
    },
    {
      "cell_type": "code",
      "metadata": {
        "id": "kV6CvDK2cvts"
      },
      "source": [
        "# predict salary data by use 1 feature, here we use working year experience data \n",
        "# and use it to find its linear regression"
      ],
      "execution_count": null,
      "outputs": []
    },
    {
      "cell_type": "code",
      "metadata": {
        "colab": {
          "base_uri": "https://localhost:8080/"
        },
        "id": "TDCOb2IfXQD_",
        "outputId": "186d74d9-6ddb-4855-df62-7d29e99d5743"
      },
      "source": [
        "from google.colab import drive\n",
        "drive.mount('/content/drive')"
      ],
      "execution_count": null,
      "outputs": [
        {
          "output_type": "stream",
          "text": [
            "Mounted at /content/drive\n"
          ],
          "name": "stdout"
        }
      ]
    },
    {
      "cell_type": "markdown",
      "metadata": {
        "id": "xpXdowrE9DxW"
      },
      "source": [
        "## Importing the libraries"
      ]
    },
    {
      "cell_type": "code",
      "metadata": {
        "id": "TApgwhbOXf-9"
      },
      "source": [
        "# import all standard ML lib\n",
        "import pandas as pd\n",
        "import numpy as np\n",
        "import matplotlib.pyplot as plt"
      ],
      "execution_count": null,
      "outputs": []
    },
    {
      "cell_type": "markdown",
      "metadata": {
        "id": "6JhpWJi59J1p"
      },
      "source": [
        "## Importing the dataset"
      ]
    },
    {
      "cell_type": "code",
      "metadata": {
        "id": "mEku93L6dbRf"
      },
      "source": [
        "# import dataset from file\n",
        "dataset = pd.read_csv('/content/drive/MyDrive/Learn_Machinelearning_Udemy/02.simple_linear_regression/Salary_Data.csv')\n",
        "x = dataset.iloc[:, :1].values\n",
        "y = dataset.iloc[:, -1:].values"
      ],
      "execution_count": null,
      "outputs": []
    },
    {
      "cell_type": "code",
      "metadata": {
        "id": "dQ4oFJRCd_wf"
      },
      "source": [
        "print(x)"
      ],
      "execution_count": null,
      "outputs": []
    },
    {
      "cell_type": "code",
      "metadata": {
        "id": "7lYq65C0eA9H"
      },
      "source": [
        "print(y)"
      ],
      "execution_count": null,
      "outputs": []
    },
    {
      "cell_type": "markdown",
      "metadata": {
        "id": "AyhQaTwP9RzG"
      },
      "source": [
        "## Splitting the dataset into the Training set and Test set"
      ]
    },
    {
      "cell_type": "code",
      "metadata": {
        "id": "49kwg0kA7kC2"
      },
      "source": [
        "from sklearn.model_selection import train_test_split\n",
        "\n",
        "x_train, x_test, y_train, y_test = train_test_split(x,y,test_size = 0.2, random_state = 1)"
      ],
      "execution_count": null,
      "outputs": []
    },
    {
      "cell_type": "code",
      "metadata": {
        "id": "YRAmAPRL8MkA"
      },
      "source": [
        "print(x_train)"
      ],
      "execution_count": null,
      "outputs": []
    },
    {
      "cell_type": "markdown",
      "metadata": {
        "id": "ZijQwFMQ9itx"
      },
      "source": [
        "## Training the Simple Linear Regression model on the Training set"
      ]
    },
    {
      "cell_type": "code",
      "metadata": {
        "colab": {
          "base_uri": "https://localhost:8080/"
        },
        "id": "R-uABMKQ-Pt2",
        "outputId": "98b39b8d-4413-4cf2-8cf6-f3ee388822fd"
      },
      "source": [
        "# regression break continues real value\n",
        "# classification break category / class\n",
        "# googling for more theory of simple linear regression\n",
        "# we can make simple linear regression from scratch or use library (scikit learn)\n",
        "# simple linear regression use LinearRegression class from sklearn\n",
        "from sklearn.linear_model import LinearRegression\n",
        "\n",
        "# declare regression object\n",
        "lr = LinearRegression()\n",
        "\n",
        "# function to train the model is fit method\n",
        "# expect x and y train data\n",
        "lr.fit(x_train, y_train)"
      ],
      "execution_count": null,
      "outputs": [
        {
          "output_type": "execute_result",
          "data": {
            "text/plain": [
              "LinearRegression(copy_X=True, fit_intercept=True, n_jobs=None, normalize=False)"
            ]
          },
          "metadata": {
            "tags": []
          },
          "execution_count": 5
        }
      ]
    },
    {
      "cell_type": "markdown",
      "metadata": {
        "id": "wa2T1Lq89o5H"
      },
      "source": [
        "## Predicting the Test set results"
      ]
    },
    {
      "cell_type": "code",
      "metadata": {
        "id": "XFq5ClluA73N"
      },
      "source": [
        "# after we train the SLR model, now we predict the test set use created model.\n",
        "# and after that, we compare results from SLR model to the real result in dataset in purpose of finding \n",
        "# model's accuracy.\n",
        "\n",
        "# to predict result, we use predict method from LR object\n",
        "y_pred = lr.predict(x_test)"
      ],
      "execution_count": null,
      "outputs": []
    },
    {
      "cell_type": "markdown",
      "metadata": {
        "id": "-zSoMZ-P9v8t"
      },
      "source": [
        "## Visualising the Training set results"
      ]
    },
    {
      "cell_type": "code",
      "metadata": {
        "colab": {
          "base_uri": "https://localhost:8080/",
          "height": 295
        },
        "id": "ohJIQKblmS4z",
        "outputId": "07421e77-c557-42a0-c967-94ea93502e42"
      },
      "source": [
        "# we can use matplotlib to visualize data\n",
        "# for dot data use scatter, for line data use plot\n",
        "\n",
        "# scatter is used to make x vs y dot graph, first 2 parameter is x and y dataset\n",
        "# then other parameter is **kwargs, ex: color\n",
        "plt.scatter(x_train, y_train, color = \"red\")\n",
        "\n",
        "# plot the regression line, line of prediction\n",
        "# to plot line, we use plot function\n",
        "# paramter of plot is x and y, but we use predicted y in this function.\n",
        "plt.plot(x_train, lr.predict(x_train), color = \"blue\")\n",
        "\n",
        "# beautify the visualization\n",
        "# put title in graph\n",
        "plt.title('Salary vs Experience (Training Set)')\n",
        "# x label\n",
        "plt.xlabel('year of Experience')\n",
        "# y label\n",
        "plt.ylabel('Salary')\n",
        "\n",
        "# last step, show graph\n",
        "plt.show()"
      ],
      "execution_count": null,
      "outputs": [
        {
          "output_type": "display_data",
          "data": {
            "image/png": "[encoded data removed]",
            "text/plain": [
              "<Figure size 432x288 with 1 Axes>"
            ]
          },
          "metadata": {
            "tags": [],
            "needs_background": "light"
          }
        }
      ]
    },
    {
      "cell_type": "markdown",
      "metadata": {
        "id": "EUX1Vhsv97ZT"
      },
      "source": [
        "## Visualising the Test set results"
      ]
    },
    {
      "cell_type": "code",
      "metadata": {
        "colab": {
          "base_uri": "https://localhost:8080/",
          "height": 295
        },
        "id": "r00KXjRimTrj",
        "outputId": "4ec97a18-02ab-4d7f-958d-d1756e25bda9"
      },
      "source": [
        "# same as training set, but we change scatterd object use test set\n",
        "\n",
        "# scatter is used to make x vs y dot graph\n",
        "plt.scatter(x_test, y_test, color = \"red\")\n",
        "\n",
        "# plot the regression line, line of prediction\n",
        "plt.plot(x_train, lr.predict(x_train), color = \"blue\")\n",
        "\n",
        "# beautify the visualization\n",
        "plt.title('Salary vs Experience (Training Set)')\n",
        "plt.xlabel('year of Experience')\n",
        "plt.ylabel('Salary')\n",
        "\n",
        "plt.show()"
      ],
      "execution_count": null,
      "outputs": [
        {
          "output_type": "display_data",
          "data": {
            "image/png": "[encoded data removed]",
            "text/plain": [
              "<Figure size 432x288 with 1 Axes>"
            ]
          },
          "metadata": {
            "tags": [],
            "needs_background": "light"
          }
        }
      ]
    },
    {
      "cell_type": "markdown",
      "metadata": {
        "id": "C-mT9TFLreb4"
      },
      "source": [
        "Here we can get beautiful result because the dataset is in linear relation. SLR can be used in this case.\n",
        "\n",
        "But if the dataset is not in linear relation, we must use other regression."
      ]
    },
    {
      "cell_type": "markdown",
      "metadata": {
        "id": "3Ds4s9l3HgxZ"
      },
      "source": [
        "## Single Prediction"
      ]
    },
    {
      "cell_type": "code",
      "metadata": {
        "colab": {
          "base_uri": "https://localhost:8080/"
        },
        "id": "Myxx0q0pHq5n",
        "outputId": "e2f55965-aad3-463c-f321-0773af6b3626"
      },
      "source": [
        "# to do single prediction, we can use SLR object that already fitted \n",
        "# and input the feature that we want to predict in 2D array format (because SLR read 2d Matrix)\n",
        "\n",
        "print(lr.predict([[13]])) "
      ],
      "execution_count": null,
      "outputs": [
        {
          "output_type": "stream",
          "text": [
            "[[146938.17959226]]\n"
          ],
          "name": "stdout"
        }
      ]
    },
    {
      "cell_type": "markdown",
      "metadata": {
        "id": "LVC9fMNbKVpG"
      },
      "source": [
        "## Getting final equation with value of coefficient"
      ]
    },
    {
      "cell_type": "code",
      "metadata": {
        "colab": {
          "base_uri": "https://localhost:8080/"
        },
        "id": "_zU-032jKgpY",
        "outputId": "34fc50e3-761b-4270-a254-e955a76257ac"
      },
      "source": [
        "# SLR fullfil the equation of y = mx + b. So in this model, we already have X and Y values.\n",
        "# SLR model use train data to get the most accurate value of m (coefficient) & b (intercept)\n",
        "# to get model's final coef & intercept, we can use this\n",
        "\n",
        "print(lr.coef_)\n",
        "print(lr.intercept_)"
      ],
      "execution_count": null,
      "outputs": [
        {
          "output_type": "stream",
          "text": [
            "[[9332.94473799]]\n",
            "[25609.89799835]\n"
          ],
          "name": "stdout"
        }
      ]
    }
  ]
}